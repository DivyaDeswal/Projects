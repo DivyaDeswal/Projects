{
  "nbformat": 4,
  "nbformat_minor": 0,
  "metadata": {
    "colab": {
      "provenance": [],
      "authorship_tag": "ABX9TyOGpeThfShJjAKccLvN2Z8K",
      "include_colab_link": true
    },
    "kernelspec": {
      "name": "python3",
      "display_name": "Python 3"
    },
    "language_info": {
      "name": "python"
    }
  },
  "cells": [
    {
      "cell_type": "markdown",
      "metadata": {
        "id": "view-in-github",
        "colab_type": "text"
      },
      "source": [
        "<a href=\"https://colab.research.google.com/github/DivyaDeswal/Projects/blob/main/Building_A_Simple_Chatbot_Using_DL.ipynb\" target=\"_parent\"><img src=\"https://colab.research.google.com/assets/colab-badge.svg\" alt=\"Open In Colab\"/></a>"
      ]
    },
    {
      "cell_type": "markdown",
      "source": [
        "# **IMPORT** **LIBRARIES**"
      ],
      "metadata": {
        "id": "JJ2dbFO0Nov-"
      }
    },
    {
      "cell_type": "code",
      "source": [
        "import random\n",
        "import numpy as np\n",
        "import nltk\n",
        "import json\n",
        "from tensorflow.keras.models import Sequential\n",
        "from tensorflow.keras.layers import Dense, Dropout\n",
        "from tensorflow.keras.optimizers import Adam\n",
        "from nltk.stem import WordNetLemmatizer"
      ],
      "metadata": {
        "id": "G3cdyb-rN_tf"
      },
      "execution_count": 10,
      "outputs": []
    },
    {
      "cell_type": "code",
      "source": [
        "# Download NLTK data\n",
        "nltk.download('punkt')\n",
        "nltk.download('wordnet')\n",
        "nltk.download('punkt_tab')"
      ],
      "metadata": {
        "colab": {
          "base_uri": "https://localhost:8080/"
        },
        "id": "dGDdnh-zTfz4",
        "outputId": "7a327427-2bcc-4113-8b16-3280ad52d38f"
      },
      "execution_count": 14,
      "outputs": [
        {
          "output_type": "stream",
          "name": "stderr",
          "text": [
            "[nltk_data] Downloading package punkt to /root/nltk_data...\n",
            "[nltk_data]   Package punkt is already up-to-date!\n",
            "[nltk_data] Downloading package wordnet to /root/nltk_data...\n",
            "[nltk_data]   Package wordnet is already up-to-date!\n",
            "[nltk_data] Downloading package punkt_tab to /root/nltk_data...\n",
            "[nltk_data]   Unzipping tokenizers/punkt_tab.zip.\n"
          ]
        },
        {
          "output_type": "execute_result",
          "data": {
            "text/plain": [
              "True"
            ]
          },
          "metadata": {},
          "execution_count": 14
        }
      ]
    },
    {
      "cell_type": "markdown",
      "source": [
        "# **DEFINE** **SAMPLE** **INTENTS**"
      ],
      "metadata": {
        "id": "wwgGekADOM_p"
      }
    },
    {
      "cell_type": "code",
      "source": [
        "intents = {\n",
        "    \"intents\": [\n",
        "        {\n",
        "            \"tag\": \"greeting\",\n",
        "            \"patterns\": [\"Hi\", \"Hello\", \"Hey\", \"Howdy\"],\n",
        "            \"responses\": [\"Hello!\", \"Hi there!\", \"Hey! How can I help you?\"]\n",
        "        },\n",
        "        {\n",
        "            \"tag\": \"goodbye\",\n",
        "            \"patterns\": [\"Bye\", \"See you\", \"Goodbye\"],\n",
        "            \"responses\": [\"Goodbye!\", \"See you later!\", \"Have a nice day!\"]\n",
        "        },\n",
        "        {\n",
        "            \"tag\": \"thanks\",\n",
        "            \"patterns\": [\"Thanks\", \"Thank you\", \"That's helpful\"],\n",
        "            \"responses\": [\"You're welcome!\", \"No problem!\", \"Anytime!\"]\n",
        "        },\n",
        "        {\n",
        "            \"tag\": \"name\",\n",
        "            \"patterns\": [\"What is your name?\", \"Who are you?\", \"Identify yourself\"],\n",
        "            \"responses\": [\"I'm your chatbot assistant!\", \"Call me ChatBot.\", \"ChatBot at your service!\"]\n",
        "        }\n",
        "    ]\n",
        "}\n"
      ],
      "metadata": {
        "id": "ZSP0gSd6Tf-o"
      },
      "execution_count": 15,
      "outputs": []
    },
    {
      "cell_type": "markdown",
      "source": [
        "# **PREPROCESSING**"
      ],
      "metadata": {
        "id": "1WaZMlaaO0-d"
      }
    },
    {
      "cell_type": "markdown",
      "source": [
        "## **Lemmatization** **& Tokenization**"
      ],
      "metadata": {
        "id": "L2xVCsnnO8Hv"
      }
    },
    {
      "cell_type": "code",
      "source": [
        "lemmatizer = WordNetLemmatizer()\n",
        "words = []\n",
        "classes = []\n",
        "documents = []\n",
        "\n",
        "for intent in intents[\"intents\"]:\n",
        "    for pattern in intent[\"patterns\"]:\n",
        "        tokens = nltk.word_tokenize(pattern)  # Tokenize each sentence into words\n",
        "        words.extend(tokens)  # Add to vocabulary\n",
        "        documents.append((tokens, intent[\"tag\"]))  # Pair tokenized words with their intent tag\n",
        "        if intent[\"tag\"] not in classes:\n",
        "            classes.append(intent[\"tag\"])  # Store unique class labels\n"
      ],
      "metadata": {
        "id": "sbLWeEPYTgAv"
      },
      "execution_count": 16,
      "outputs": []
    },
    {
      "cell_type": "markdown",
      "source": [
        "tokenize: breaks sentences into words (e.g., \"Hello there!\" → [\"Hello\", \"there\"])\n",
        "\n",
        "lemmatizer: reduces words to their base form (e.g., \"running\" → \"run\")\n",
        "\n"
      ],
      "metadata": {
        "id": "0bOYWxjPP-Q9"
      }
    },
    {
      "cell_type": "markdown",
      "source": [
        "## **Clean** **Vocabulary**"
      ],
      "metadata": {
        "id": "pbTgc83uQJr7"
      }
    },
    {
      "cell_type": "code",
      "source": [
        "words = [lemmatizer.lemmatize(w.lower()) for w in words if w.isalnum()]\n",
        "words = sorted(set(words))  # Unique and sorted\n",
        "classes = sorted(set(classes))  # Unique classes"
      ],
      "metadata": {
        "id": "3ueM7JgkTgD2"
      },
      "execution_count": 17,
      "outputs": []
    },
    {
      "cell_type": "markdown",
      "source": [
        "Lowercases everything\n",
        "\n",
        "Removes punctuation (isalnum() ensures only words/numbers stay)\n",
        "\n",
        "Sorts and deduplicates the vocabulary and class list\n",
        "\n"
      ],
      "metadata": {
        "id": "HeAIHpY7Qsmw"
      }
    },
    {
      "cell_type": "markdown",
      "source": [
        "# **PREPARE** **TRAINING** **DATA**"
      ],
      "metadata": {
        "id": "ucNsSRoeRAbS"
      }
    },
    {
      "cell_type": "markdown",
      "source": [
        "## **Convert** **Sentences** **to** **Bags** **of** **Words**"
      ],
      "metadata": {
        "id": "fKDD9JmiRo9y"
      }
    },
    {
      "cell_type": "code",
      "source": [
        "training_data = []\n",
        "output_empty = [0] * len(classes)\n",
        "\n",
        "for doc in documents:\n",
        "    pattern_words = [lemmatizer.lemmatize(w.lower()) for w in doc[0] if w.isalnum()]\n",
        "    bag = [1 if w in pattern_words else 0 for w in words]  # Bag of words representation\n",
        "\n",
        "    output_row = list(output_empty)\n",
        "    output_row[classes.index(doc[1])] = 1  # One-hot encoding of label\n",
        "\n",
        "    training_data.append([bag, output_row])"
      ],
      "metadata": {
        "id": "n4RBouvQQ-3R"
      },
      "execution_count": 18,
      "outputs": []
    },
    {
      "cell_type": "markdown",
      "source": [
        "Each input sentence becomes a binary vector where:\n",
        "\n",
        "1 = word is present in the sentence\n",
        "\n",
        "0 = word is not\n",
        "\n",
        "Each output is a one-hot vector matching the intent tag"
      ],
      "metadata": {
        "id": "sTvAFuPBR1YE"
      }
    },
    {
      "cell_type": "markdown",
      "source": [
        "## **Shuffle** **&** **Convert** **to** **NumPy** **Arrays**"
      ],
      "metadata": {
        "id": "fAHmW10xSOqT"
      }
    },
    {
      "cell_type": "code",
      "source": [
        "random.shuffle(training_data)\n",
        "training_data = np.array(training_data, dtype=object)\n",
        "train_x = np.array(list(training_data[:, 0]))\n",
        "train_y = np.array(list(training_data[:, 1]))"
      ],
      "metadata": {
        "id": "4_VyCnUrTgFR"
      },
      "execution_count": 19,
      "outputs": []
    },
    {
      "cell_type": "markdown",
      "source": [
        "# **BUILD** **&** **TRAIN** **THE** **MODEL**"
      ],
      "metadata": {
        "id": "NoMr246_TWph"
      }
    },
    {
      "cell_type": "code",
      "source": [
        "model = Sequential()\n",
        "model.add(Dense(128, input_shape=(len(train_x[0]),), activation='relu'))\n",
        "model.add(Dropout(0.5))\n",
        "model.add(Dense(64, activation='relu'))\n",
        "model.add(Dropout(0.5))\n",
        "model.add(Dense(len(train_y[0]), activation='softmax'))\n",
        "\n",
        "model.compile(loss='categorical_crossentropy', optimizer=Adam(learning_rate=0.01), metrics=['accuracy'])\n",
        "model.fit(train_x, train_y, epochs=20, batch_size=5, verbose=1)\n"
      ],
      "metadata": {
        "colab": {
          "base_uri": "https://localhost:8080/"
        },
        "id": "LhqSX9p1TgIl",
        "outputId": "e5856dc0-3f1a-4a9b-d86a-a0380d5f97e9"
      },
      "execution_count": 21,
      "outputs": [
        {
          "output_type": "stream",
          "name": "stdout",
          "text": [
            "Epoch 1/20\n",
            "\u001b[1m3/3\u001b[0m \u001b[32m━━━━━━━━━━━━━━━━━━━━\u001b[0m\u001b[37m\u001b[0m \u001b[1m1s\u001b[0m 14ms/step - accuracy: 0.1769 - loss: 1.4069\n",
            "Epoch 2/20\n",
            "\u001b[1m3/3\u001b[0m \u001b[32m━━━━━━━━━━━━━━━━━━━━\u001b[0m\u001b[37m\u001b[0m \u001b[1m0s\u001b[0m 15ms/step - accuracy: 0.2538 - loss: 1.3601\n",
            "Epoch 3/20\n",
            "\u001b[1m3/3\u001b[0m \u001b[32m━━━━━━━━━━━━━━━━━━━━\u001b[0m\u001b[37m\u001b[0m \u001b[1m0s\u001b[0m 13ms/step - accuracy: 0.8096 - loss: 1.1011\n",
            "Epoch 4/20\n",
            "\u001b[1m3/3\u001b[0m \u001b[32m━━━━━━━━━━━━━━━━━━━━\u001b[0m\u001b[37m\u001b[0m \u001b[1m0s\u001b[0m 13ms/step - accuracy: 0.4558 - loss: 1.1577\n",
            "Epoch 5/20\n",
            "\u001b[1m3/3\u001b[0m \u001b[32m━━━━━━━━━━━━━━━━━━━━\u001b[0m\u001b[37m\u001b[0m \u001b[1m0s\u001b[0m 23ms/step - accuracy: 0.7596 - loss: 1.0903\n",
            "Epoch 6/20\n",
            "\u001b[1m3/3\u001b[0m \u001b[32m━━━━━━━━━━━━━━━━━━━━\u001b[0m\u001b[37m\u001b[0m \u001b[1m0s\u001b[0m 13ms/step - accuracy: 0.8231 - loss: 0.8570\n",
            "Epoch 7/20\n",
            "\u001b[1m3/3\u001b[0m \u001b[32m━━━━━━━━━━━━━━━━━━━━\u001b[0m\u001b[37m\u001b[0m \u001b[1m0s\u001b[0m 13ms/step - accuracy: 0.8865 - loss: 0.5595\n",
            "Epoch 8/20\n",
            "\u001b[1m3/3\u001b[0m \u001b[32m━━━━━━━━━━━━━━━━━━━━\u001b[0m\u001b[37m\u001b[0m \u001b[1m0s\u001b[0m 16ms/step - accuracy: 0.8865 - loss: 0.7035\n",
            "Epoch 9/20\n",
            "\u001b[1m3/3\u001b[0m \u001b[32m━━━━━━━━━━━━━━━━━━━━\u001b[0m\u001b[37m\u001b[0m \u001b[1m0s\u001b[0m 14ms/step - accuracy: 0.8231 - loss: 0.4764\n",
            "Epoch 10/20\n",
            "\u001b[1m3/3\u001b[0m \u001b[32m━━━━━━━━━━━━━━━━━━━━\u001b[0m\u001b[37m\u001b[0m \u001b[1m0s\u001b[0m 14ms/step - accuracy: 1.0000 - loss: 0.2013\n",
            "Epoch 11/20\n",
            "\u001b[1m3/3\u001b[0m \u001b[32m━━━━━━━━━━━━━━━━━━━━\u001b[0m\u001b[37m\u001b[0m \u001b[1m0s\u001b[0m 14ms/step - accuracy: 0.9615 - loss: 0.2058\n",
            "Epoch 12/20\n",
            "\u001b[1m3/3\u001b[0m \u001b[32m━━━━━━━━━━━━━━━━━━━━\u001b[0m\u001b[37m\u001b[0m \u001b[1m0s\u001b[0m 14ms/step - accuracy: 1.0000 - loss: 0.1271\n",
            "Epoch 13/20\n",
            "\u001b[1m3/3\u001b[0m \u001b[32m━━━━━━━━━━━━━━━━━━━━\u001b[0m\u001b[37m\u001b[0m \u001b[1m0s\u001b[0m 13ms/step - accuracy: 0.9365 - loss: 0.1167\n",
            "Epoch 14/20\n",
            "\u001b[1m3/3\u001b[0m \u001b[32m━━━━━━━━━━━━━━━━━━━━\u001b[0m\u001b[37m\u001b[0m \u001b[1m0s\u001b[0m 14ms/step - accuracy: 1.0000 - loss: 0.0860\n",
            "Epoch 15/20\n",
            "\u001b[1m3/3\u001b[0m \u001b[32m━━━━━━━━━━━━━━━━━━━━\u001b[0m\u001b[37m\u001b[0m \u001b[1m0s\u001b[0m 14ms/step - accuracy: 1.0000 - loss: 0.0473\n",
            "Epoch 16/20\n",
            "\u001b[1m3/3\u001b[0m \u001b[32m━━━━━━━━━━━━━━━━━━━━\u001b[0m\u001b[37m\u001b[0m \u001b[1m0s\u001b[0m 14ms/step - accuracy: 1.0000 - loss: 0.0717\n",
            "Epoch 17/20\n",
            "\u001b[1m3/3\u001b[0m \u001b[32m━━━━━━━━━━━━━━━━━━━━\u001b[0m\u001b[37m\u001b[0m \u001b[1m0s\u001b[0m 15ms/step - accuracy: 1.0000 - loss: 0.0437\n",
            "Epoch 18/20\n",
            "\u001b[1m3/3\u001b[0m \u001b[32m━━━━━━━━━━━━━━━━━━━━\u001b[0m\u001b[37m\u001b[0m \u001b[1m0s\u001b[0m 13ms/step - accuracy: 1.0000 - loss: 0.0634\n",
            "Epoch 19/20\n",
            "\u001b[1m3/3\u001b[0m \u001b[32m━━━━━━━━━━━━━━━━━━━━\u001b[0m\u001b[37m\u001b[0m \u001b[1m0s\u001b[0m 14ms/step - accuracy: 1.0000 - loss: 0.0194\n",
            "Epoch 20/20\n",
            "\u001b[1m3/3\u001b[0m \u001b[32m━━━━━━━━━━━━━━━━━━━━\u001b[0m\u001b[37m\u001b[0m \u001b[1m0s\u001b[0m 15ms/step - accuracy: 1.0000 - loss: 0.0168\n"
          ]
        },
        {
          "output_type": "execute_result",
          "data": {
            "text/plain": [
              "<keras.src.callbacks.history.History at 0x7d390e1ea9d0>"
            ]
          },
          "metadata": {},
          "execution_count": 21
        }
      ]
    },
    {
      "cell_type": "markdown",
      "source": [
        "# **Helper** **Functions**"
      ],
      "metadata": {
        "id": "xXC95cyRT8Xd"
      }
    },
    {
      "cell_type": "code",
      "source": [
        "def clean_input(sentence):\n",
        "    sentence_words = nltk.word_tokenize(sentence)\n",
        "    sentence_words = [lemmatizer.lemmatize(w.lower()) for w in sentence_words if w.isalnum()]\n",
        "    return sentence_words"
      ],
      "metadata": {
        "id": "CdQOWIfCTgKb"
      },
      "execution_count": 22,
      "outputs": []
    },
    {
      "cell_type": "code",
      "source": [
        "# Bag of Words Representation\n",
        "def bow(sentence, words):\n",
        "    sentence_words = clean_input(sentence)\n",
        "    return np.array([1 if w in sentence_words else 0 for w in words])"
      ],
      "metadata": {
        "id": "d4UxXQHqTgNe"
      },
      "execution_count": 23,
      "outputs": []
    },
    {
      "cell_type": "markdown",
      "source": [
        "Creates a binary vector for the input sentence:\n",
        "\n",
        "1 = word is present\n",
        "\n",
        "0 = word is absent\n",
        "\n",
        "This matches the vector format used during training."
      ],
      "metadata": {
        "id": "iHUE9ABfUu_2"
      }
    },
    {
      "cell_type": "code",
      "source": [
        "# Predict Class (Intent)\n",
        "def predict_class(sentence):\n",
        "    input_data = bow(sentence, words).reshape(1, -1)\n",
        "    probabilities = model.predict(input_data)[0]  ## Converts the input to BoW and reshapes for prediction.\n",
        "                                                  ## Gets probabilities for each class.\n",
        "\n",
        "    threshold = 0.2\n",
        "    results = [[i, p] for i, p in enumerate(probabilities) if p > threshold]  # Keeps only predictions with a confidence > 0.2.\n",
        "    results.sort(key=lambda x: x[1], reverse=True)\n",
        "    return [{\"intent\": classes[r[0]], \"probability\": str(r[1])} for r in results]  # Returns the top intent(s) with their probabilities.\n",
        ""
      ],
      "metadata": {
        "id": "A0fx4WNkTgPL"
      },
      "execution_count": 31,
      "outputs": []
    },
    {
      "cell_type": "code",
      "source": [
        "def get_response(intents_list, intents_json):\n",
        "    if len(intents_list) == 0:\n",
        "        return \"Sorry, I don't understand that.\"  # If no intent was confidently matched, respond with a fallback.\n",
        "    tag = intents_list[0]['intent']\n",
        "    for intent in intents_json['intents']:    # Finds the correct intent from the JSON.\n",
        "                                              # Returns a random response from the matching intent.\n",
        "         if intent['tag'] == tag:\n",
        "            return random.choice(intent['responses'])"
      ],
      "metadata": {
        "id": "h4N5PP9xVKBs"
      },
      "execution_count": 33,
      "outputs": []
    },
    {
      "cell_type": "markdown",
      "source": [
        "# **CHAT** **LOOP**"
      ],
      "metadata": {
        "id": "IgGZxPwhWmSP"
      }
    },
    {
      "cell_type": "code",
      "source": [
        "print(\"ChatBot is ready! Type 'quit' to exit.\")\n",
        "while True:\n",
        "    message = input(\"You: \")\n",
        "    if message.lower() == \"quit\":\n",
        "        print(\"ChatBot: Bye!\")\n",
        "        break\n",
        "    intents_list = predict_class(message)\n",
        "    response = get_response(intents_list, intents)\n",
        "    print(\"ChatBot:\", response)"
      ],
      "metadata": {
        "colab": {
          "base_uri": "https://localhost:8080/"
        },
        "id": "_1i6fmQeVJzT",
        "outputId": "b8561d33-6b0b-42f7-8e5f-4134bd845407"
      },
      "execution_count": 34,
      "outputs": [
        {
          "output_type": "stream",
          "name": "stdout",
          "text": [
            "ChatBot is ready! Type 'quit' to exit.\n",
            "You: hi\n",
            "\u001b[1m1/1\u001b[0m \u001b[32m━━━━━━━━━━━━━━━━━━━━\u001b[0m\u001b[37m\u001b[0m \u001b[1m0s\u001b[0m 79ms/step\n",
            "ChatBot: Hi there!\n",
            "You: Goodbye\n",
            "\u001b[1m1/1\u001b[0m \u001b[32m━━━━━━━━━━━━━━━━━━━━\u001b[0m\u001b[37m\u001b[0m \u001b[1m0s\u001b[0m 38ms/step\n",
            "ChatBot: See you later!\n",
            "You: That's helpful\n",
            "\u001b[1m1/1\u001b[0m \u001b[32m━━━━━━━━━━━━━━━━━━━━\u001b[0m\u001b[37m\u001b[0m \u001b[1m0s\u001b[0m 39ms/step\n",
            "ChatBot: You're welcome!\n",
            "You: What is your name\n",
            "\u001b[1m1/1\u001b[0m \u001b[32m━━━━━━━━━━━━━━━━━━━━\u001b[0m\u001b[37m\u001b[0m \u001b[1m0s\u001b[0m 48ms/step\n",
            "ChatBot: Call me ChatBot.\n",
            "You: Thanks\n",
            "\u001b[1m1/1\u001b[0m \u001b[32m━━━━━━━━━━━━━━━━━━━━\u001b[0m\u001b[37m\u001b[0m \u001b[1m0s\u001b[0m 74ms/step\n",
            "ChatBot: No problem!\n",
            "You: Howdy\n",
            "\u001b[1m1/1\u001b[0m \u001b[32m━━━━━━━━━━━━━━━━━━━━\u001b[0m\u001b[37m\u001b[0m \u001b[1m0s\u001b[0m 44ms/step\n",
            "ChatBot: Hi there!\n",
            "You: quit\n",
            "ChatBot: Bye!\n"
          ]
        }
      ]
    },
    {
      "cell_type": "code",
      "source": [],
      "metadata": {
        "id": "LBvbPv_gVJwd"
      },
      "execution_count": null,
      "outputs": []
    },
    {
      "cell_type": "code",
      "source": [],
      "metadata": {
        "id": "w7iqAy7kVI4g"
      },
      "execution_count": null,
      "outputs": []
    },
    {
      "cell_type": "code",
      "source": [],
      "metadata": {
        "id": "D-OAuyV9VI04"
      },
      "execution_count": null,
      "outputs": []
    },
    {
      "cell_type": "code",
      "source": [],
      "metadata": {
        "id": "Qy2SYsCzVIx0"
      },
      "execution_count": null,
      "outputs": []
    },
    {
      "cell_type": "code",
      "source": [],
      "metadata": {
        "id": "1dYWhcC5VIrL"
      },
      "execution_count": null,
      "outputs": []
    },
    {
      "cell_type": "code",
      "source": [],
      "metadata": {
        "id": "CVOHDqNjVIiJ"
      },
      "execution_count": null,
      "outputs": []
    },
    {
      "cell_type": "code",
      "source": [],
      "metadata": {
        "id": "F_gmw4X1VALK"
      },
      "execution_count": null,
      "outputs": []
    }
  ]
}